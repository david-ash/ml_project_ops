{
 "cells": [
  {
   "cell_type": "code",
   "execution_count": null,
   "metadata": {},
   "outputs": [
    {
     "name": "stdout",
     "output_type": "stream",
     "text": [
      "[763 191 271 271] [217 457 274 274]\n"
     ]
    }
   ],
   "source": [
    "import cv2\n",
    "import numpy as np\n",
    "\n",
    "# Load HAAR face classifier\n",
    "face_classifier = cv2.CascadeClassifier('haarcascade_frontalface_default.xml')\n",
    "cv2.namedWindow('image title', cv2.WINDOW_NORMAL)\n",
    "\n",
    "# Load functions\n",
    "def face_extractor(img):\n",
    "    # Function detects faces and returns the cropped face\n",
    "    # If no face detected, it returns the input image\n",
    "    \n",
    "    gray = cv2.cvtColor(img,cv2.COLOR_BGR2GRAY)\n",
    "    faces = face_classifier.detectMultiScale(gray, 1.3, 5)\n",
    "    \n",
    "    if faces is ():\n",
    "        return None\n",
    "    print(faces[0], faces[1])\n",
    "    \n",
    "    cropped_face1 = cv2.resize(img[faces[0][1]:faces[0][1]+faces[0][3], faces[0][0]:faces[0][0]+faces[0][2]], (faces[1][3], faces[1][2]))\n",
    "    \n",
    "    cropped_face2 = cv2.resize(img[faces[1][1]:faces[1][1]+faces[1][3], faces[1][0]:faces[1][0]+faces[1][2]], (faces[0][3], faces[0][2]))\n",
    "    \n",
    "    img[faces[0][1]:faces[0][1]+faces[0][3], faces[0][0]:faces[0][0]+faces[0][2]] = cropped_face2\n",
    "    img[faces[1][1]:faces[1][1]+faces[1][3], faces[1][0]:faces[1][0]+faces[1][2]] = cropped_face1\n",
    "    \n",
    "    # Crop all faces found\n",
    "#     for (x,y,w,h) in faces:\n",
    "#         cropped_face = img[y:y+h, x:x+w]\n",
    "#         print(cropped_face.shape)\n",
    "\n",
    "    return img\n",
    "\n",
    "frame = cv2.imread('two_face.jpg')\n",
    "faces = face_extractor(frame)\n",
    "if faces is not None:\n",
    "    cv2.imshow('image title', faces)\n",
    "    cv2.waitKey()\n",
    "    cv2.destroyAllWindows()\n",
    "    \n",
    "\n",
    "# frame = cv2.imread('two_face1.jpg')\n",
    "# if face_extractor(frame) is not None:\n",
    "# #     face = cv2.resize(face_extractor(frame), (200, 200))\n",
    "# #     face = cv2.cvtColor(face, cv2.COLOR_BGR2GRAY)\n",
    "#     faces = cv2.resize(face_extractor(frame), (200, 200))\n",
    "#     for face in faces:\n",
    "#         print(1)\n",
    "\n",
    "\n",
    "#     # Put count on images and display live count\n",
    "# #     cv2.imshow('Face Cropper', face)\n",
    "# #     cv2.waitKey()\n",
    "# #     cv2.destroyAllWindows()\n",
    "# else:\n",
    "#     print(\"Face not found\")\n",
    "#     pass\n",
    "\n",
    "\n",
    "# cv2.destroyAllWindows()      \n",
    "# print(\"Collecting Samples Complete\")"
   ]
  },
  {
   "cell_type": "code",
   "execution_count": null,
   "metadata": {},
   "outputs": [],
   "source": [
    "import cv2\n",
    "frame = cv2.imread('two_face1.jpg')\n",
    "frame = frame[982:1520, 342:880]\n",
    "cv2.imshow('image title', frame)\n",
    "cv2.waitKey()\n",
    "cv2.destroyAllWindows()\n"
   ]
  },
  {
   "cell_type": "code",
   "execution_count": null,
   "metadata": {
    "collapsed": true
   },
   "outputs": [],
   "source": []
  }
 ],
 "metadata": {
  "kernelspec": {
   "display_name": "Python 3",
   "language": "python",
   "name": "python3"
  },
  "language_info": {
   "codemirror_mode": {
    "name": "ipython",
    "version": 3
   },
   "file_extension": ".py",
   "mimetype": "text/x-python",
   "name": "python",
   "nbconvert_exporter": "python",
   "pygments_lexer": "ipython3",
   "version": "3.6.3"
  }
 },
 "nbformat": 4,
 "nbformat_minor": 2
}
